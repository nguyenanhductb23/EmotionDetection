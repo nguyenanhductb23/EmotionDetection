{
  "cells": [
    {
      "cell_type": "markdown",
      "metadata": {
        "id": "omwrpKcJzRhD"
      },
      "source": [
        "# **Giới thiệu**"
      ]
    },
    {
      "cell_type": "markdown",
      "metadata": {
        "id": "CaCivr5ozSWn"
      },
      "source": [
        "Project của Nhóm 5 về nhận diện cảm xúc trên các ảnh xám kích thước 48x48, được lưu dưới dạng mảng trong file csv. Tập dữ liệu được sử dụng là *FER-2013* (tập huấn luyện gồm 28709 ảnh, tập kiểm thử gồm 3589 ảnh).\n",
        "\n",
        "Nhiệm vụ cần làm là phân loại xem mỗi bức ảnh thể hiện cảm xúc gì: (0=Angry, 1=Disgust, 2=Fear, 3=Happy, 4=Sad, 5=Surprise, 6=Neutral)."
      ]
    },
    {
      "cell_type": "code",
      "execution_count": null,
      "metadata": {
        "colab": {
          "base_uri": "https://localhost:8080/",
          "height": 65
        },
        "id": "2o5b5PAz3ORI",
        "outputId": "7a163ac6-5b67-4eb9-9022-605acc73c60a"
      },
      "outputs": [
        {
          "data": {
            "image/png": "[encoded data removed]",
            "text/plain": [
              "<PIL.Image.Image image mode=L size=48x48 at 0x7F8D31995F90>"
            ]
          },
          "execution_count": 8,
          "metadata": {},
          "output_type": "execute_result"
        }
      ],
      "source": [
        "img = array_to_img(X_train[1500])\n",
        "img"
      ]
    },
    {
      "cell_type": "code",
      "execution_count": null,
      "metadata": {
        "colab": {
          "base_uri": "https://localhost:8080/"
        },
        "id": "IbsD9hp83Pw4",
        "outputId": "570ec2ba-0f80-43a9-fe58-2e111a9f0a08"
      },
      "outputs": [
        {
          "data": {
            "text/plain": [
              "6"
            ]
          },
          "execution_count": 9,
          "metadata": {},
          "output_type": "execute_result"
        }
      ],
      "source": [
        "y_train[1500]"
      ]
    },
    {
      "cell_type": "markdown",
      "metadata": {
        "id": "_0uminlyZFVO"
      },
      "source": [
        "# **1. Khai báo thư viện**"
      ]
    },
    {
      "cell_type": "code",
      "execution_count": null,
      "metadata": {
        "id": "wnUMlIq5imD2"
      },
      "outputs": [],
      "source": [
        "import matplotlib.pyplot as plt\n",
        "import numpy as np\n",
        "import scipy\n",
        "import pandas as pd"
      ]
    },
    {
      "cell_type": "code",
      "execution_count": null,
      "metadata": {
        "id": "DuVd0gZSZeAu"
      },
      "outputs": [],
      "source": [
        "from keras.models import Model\n",
        "from keras.layers import RandomFlip, RandomContrast, RandomRotation\n",
        "from keras.layers import Input, Dense, Flatten, Dropout, BatchNormalization\n",
        "from keras.layers.convolutional import Conv2D\n",
        "from keras.layers.pooling import MaxPooling2D\n",
        "\n",
        "from keras.layers.merge import concatenate\n",
        "from keras.preprocessing.image import array_to_img\n",
        "from keras.regularizers import l1, l2\n",
        "from matplotlib import pyplot as plt\n",
        "from sklearn.metrics import confusion_matrix, plot_confusion_matrix\n",
        "from keras.models import Sequential, load_model"
      ]
    },
    {
      "cell_type": "code",
      "execution_count": null,
      "metadata": {
        "colab": {
          "base_uri": "https://localhost:8080/"
        },
        "id": "Iz4hvBgFxftX",
        "outputId": "7134948e-0010-4afd-9ed3-7007137cec5b"
      },
      "outputs": [
        {
          "name": "stdout",
          "output_type": "stream",
          "text": [
            "Collecting visualkeras\n",
            "  Downloading visualkeras-0.0.2-py3-none-any.whl (12 kB)\n",
            "Collecting aggdraw>=1.3.11\n",
            "  Downloading aggdraw-1.3.14-cp37-cp37m-manylinux_2_17_x86_64.manylinux2014_x86_64.whl (992 kB)\n",
            "\u001b[K     |████████████████████████████████| 992 kB 8.8 MB/s \n",
            "\u001b[?25hRequirement already satisfied: pillow>=6.2.0 in /usr/local/lib/python3.7/dist-packages (from visualkeras) (7.1.2)\n",
            "Requirement already satisfied: numpy>=1.18.1 in /usr/local/lib/python3.7/dist-packages (from visualkeras) (1.21.6)\n",
            "Installing collected packages: aggdraw, visualkeras\n",
            "Successfully installed aggdraw-1.3.14 visualkeras-0.0.2\n"
          ]
        }
      ],
      "source": [
        "!pip install visualkeras\n",
        "import visualkeras"
      ]
    },
    {
      "cell_type": "markdown",
      "metadata": {
        "id": "BHoPSyvTjQP2"
      },
      "source": [
        "# **2. Lấy dữ liệu từ tệp và Tiền xử lí dữ liệu**"
      ]
    },
    {
      "cell_type": "code",
      "execution_count": null,
      "metadata": {
        "colab": {
          "base_uri": "https://localhost:8080/",
          "height": 206
        },
        "id": "ZOFkZ7-ui29L",
        "outputId": "2d406809-cf45-407b-aacb-4c30d8d9993f"
      },
      "outputs": [
        {
          "data": {
            "text/html": [
              "\n",
              "  <div id=\"df-da33dede-e3d6-4bb9-9a86-844d2a5b1834\">\n",
              "    <div class=\"colab-df-container\">\n",
              "      <div>\n",
              "<style scoped>\n",
              "    .dataframe tbody tr th:only-of-type {\n",
              "        vertical-align: middle;\n",
              "    }\n",
              "\n",
              "    .dataframe tbody tr th {\n",
              "        vertical-align: top;\n",
              "    }\n",
              "\n",
              "    .dataframe thead th {\n",
              "        text-align: right;\n",
              "    }\n",
              "</style>\n",
              "<table border=\"1\" class=\"dataframe\">\n",
              "  <thead>\n",
              "    <tr style=\"text-align: right;\">\n",
              "      <th></th>\n",
              "      <th>emotion</th>\n",
              "      <th>pixels</th>\n",
              "      <th>Usage</th>\n",
              "    </tr>\n",
              "  </thead>\n",
              "  <tbody>\n",
              "    <tr>\n",
              "      <th>0</th>\n",
              "      <td>0</td>\n",
              "      <td>70 80 82 72 58 58 60 63 54 58 60 48 89 115 121...</td>\n",
              "      <td>Training</td>\n",
              "    </tr>\n",
              "    <tr>\n",
              "      <th>1</th>\n",
              "      <td>0</td>\n",
              "      <td>151 150 147 155 148 133 111 140 170 174 182 15...</td>\n",
              "      <td>Training</td>\n",
              "    </tr>\n",
              "    <tr>\n",
              "      <th>2</th>\n",
              "      <td>2</td>\n",
              "      <td>231 212 156 164 174 138 161 173 182 200 106 38...</td>\n",
              "      <td>Training</td>\n",
              "    </tr>\n",
              "    <tr>\n",
              "      <th>3</th>\n",
              "      <td>4</td>\n",
              "      <td>24 32 36 30 32 23 19 20 30 41 21 22 32 34 21 1...</td>\n",
              "      <td>Training</td>\n",
              "    </tr>\n",
              "    <tr>\n",
              "      <th>4</th>\n",
              "      <td>6</td>\n",
              "      <td>4 0 0 0 0 0 0 0 0 0 0 0 3 15 23 28 48 50 58 84...</td>\n",
              "      <td>Training</td>\n",
              "    </tr>\n",
              "  </tbody>\n",
              "</table>\n",
              "</div>\n",
              "      <button class=\"colab-df-convert\" onclick=\"convertToInteractive('df-da33dede-e3d6-4bb9-9a86-844d2a5b1834')\"\n",
              "              title=\"Convert this dataframe to an interactive table.\"\n",
              "              style=\"display:none;\">\n",
              "        \n",
              "  <svg xmlns=\"http://www.w3.org/2000/svg\" height=\"24px\"viewBox=\"0 0 24 24\"\n",
              "       width=\"24px\">\n",
              "    <path d=\"M0 0h24v24H0V0z\" fill=\"none\"/>\n",
              "    <path d=\"M18.56 5.44l.94 2.06.94-2.06 2.06-.94-2.06-.94-.94-2.06-.94 2.06-2.06.94zm-11 1L8.5 8.5l.94-2.06 2.06-.94-2.06-.94L8.5 2.5l-.94 2.06-2.06.94zm10 10l.94 2.06.94-2.06 2.06-.94-2.06-.94-.94-2.06-.94 2.06-2.06.94z\"/><path d=\"M17.41 7.96l-1.37-1.37c-.4-.4-.92-.59-1.43-.59-.52 0-1.04.2-1.43.59L10.3 9.45l-7.72 7.72c-.78.78-.78 2.05 0 2.83L4 21.41c.39.39.9.59 1.41.59.51 0 1.02-.2 1.41-.59l7.78-7.78 2.81-2.81c.8-.78.8-2.07 0-2.86zM5.41 20L4 18.59l7.72-7.72 1.47 1.35L5.41 20z\"/>\n",
              "  </svg>\n",
              "      </button>\n",
              "      \n",
              "  <style>\n",
              "    .colab-df-container {\n",
              "      display:flex;\n",
              "      flex-wrap:wrap;\n",
              "      gap: 12px;\n",
              "    }\n",
              "\n",
              "    .colab-df-convert {\n",
              "      background-color: #E8F0FE;\n",
              "      border: none;\n",
              "      border-radius: 50%;\n",
              "      cursor: pointer;\n",
              "      display: none;\n",
              "      fill: #1967D2;\n",
              "      height: 32px;\n",
              "      padding: 0 0 0 0;\n",
              "      width: 32px;\n",
              "    }\n",
              "\n",
              "    .colab-df-convert:hover {\n",
              "      background-color: #E2EBFA;\n",
              "      box-shadow: 0px 1px 2px rgba(60, 64, 67, 0.3), 0px 1px 3px 1px rgba(60, 64, 67, 0.15);\n",
              "      fill: #174EA6;\n",
              "    }\n",
              "\n",
              "    [theme=dark] .colab-df-convert {\n",
              "      background-color: #3B4455;\n",
              "      fill: #D2E3FC;\n",
              "    }\n",
              "\n",
              "    [theme=dark] .colab-df-convert:hover {\n",
              "      background-color: #434B5C;\n",
              "      box-shadow: 0px 1px 3px 1px rgba(0, 0, 0, 0.15);\n",
              "      filter: drop-shadow(0px 1px 2px rgba(0, 0, 0, 0.3));\n",
              "      fill: #FFFFFF;\n",
              "    }\n",
              "  </style>\n",
              "\n",
              "      <script>\n",
              "        const buttonEl =\n",
              "          document.querySelector('#df-da33dede-e3d6-4bb9-9a86-844d2a5b1834 button.colab-df-convert');\n",
              "        buttonEl.style.display =\n",
              "          google.colab.kernel.accessAllowed ? 'block' : 'none';\n",
              "\n",
              "        async function convertToInteractive(key) {\n",
              "          const element = document.querySelector('#df-da33dede-e3d6-4bb9-9a86-844d2a5b1834');\n",
              "          const dataTable =\n",
              "            await google.colab.kernel.invokeFunction('convertToInteractive',\n",
              "                                                     [key], {});\n",
              "          if (!dataTable) return;\n",
              "\n",
              "          const docLinkHtml = 'Like what you see? Visit the ' +\n",
              "            '<a target=\"_blank\" href=https://colab.research.google.com/notebooks/data_table.ipynb>data table notebook</a>'\n",
              "            + ' to learn more about interactive tables.';\n",
              "          element.innerHTML = '';\n",
              "          dataTable['output_type'] = 'display_data';\n",
              "          await google.colab.output.renderOutput(dataTable, element);\n",
              "          const docLink = document.createElement('div');\n",
              "          docLink.innerHTML = docLinkHtml;\n",
              "          element.appendChild(docLink);\n",
              "        }\n",
              "      </script>\n",
              "    </div>\n",
              "  </div>\n",
              "  "
            ],
            "text/plain": [
              "   emotion                                             pixels     Usage\n",
              "0        0  70 80 82 72 58 58 60 63 54 58 60 48 89 115 121...  Training\n",
              "1        0  151 150 147 155 148 133 111 140 170 174 182 15...  Training\n",
              "2        2  231 212 156 164 174 138 161 173 182 200 106 38...  Training\n",
              "3        4  24 32 36 30 32 23 19 20 30 41 21 22 32 34 21 1...  Training\n",
              "4        6  4 0 0 0 0 0 0 0 0 0 0 0 3 15 23 28 48 50 58 84...  Training"
            ]
          },
          "execution_count": 5,
          "metadata": {},
          "output_type": "execute_result"
        }
      ],
      "source": [
        "df = pd.read_csv('/content/drive/MyDrive/datasets/fer2013.csv')\n",
        "df.head()"
      ]
    },
    {
      "cell_type": "code",
      "execution_count": null,
      "metadata": {
        "colab": {
          "base_uri": "https://localhost:8080/"
        },
        "id": "A1Y2v09nRKea",
        "outputId": "80d95af5-caae-46a4-e679-805005c5d458"
      },
      "outputs": [
        {
          "name": "stdout",
          "output_type": "stream",
          "text": [
            "Mounted at /content/drive\n"
          ]
        }
      ],
      "source": [
        "from google.colab import drive\n",
        "drive.mount('/content/drive')"
      ]
    },
    {
      "cell_type": "code",
      "execution_count": null,
      "metadata": {
        "id": "a_Kw5TokjDRf"
      },
      "outputs": [],
      "source": [
        "X_train = []\n",
        "y_train = []\n",
        "X_test = []\n",
        "y_test = []\n",
        "for index, row in df.iterrows():\n",
        "    k = row['pixels'].split(\" \")\n",
        "    if row['Usage'] == 'Training':\n",
        "        X_train.append(np.array(k))\n",
        "        y_train.append(row['emotion'])\n",
        "    elif row['Usage'] == 'PublicTest':\n",
        "        X_test.append(np.array(k))\n",
        "        y_test.append(row['emotion'])\n",
        "        \n",
        "X_train = np.array(X_train, dtype = 'int32')\n",
        "y_train = np.array(y_train, dtype = 'int32')\n",
        "X_test = np.array(X_test, dtype = 'int32')\n",
        "y_test = np.array(y_test, dtype = 'int32')"
      ]
    },
    {
      "cell_type": "markdown",
      "metadata": {
        "id": "vjJCiJnhebzz"
      },
      "source": [
        "**Tiền xử lí dữ liệu**"
      ]
    },
    {
      "cell_type": "code",
      "execution_count": null,
      "metadata": {
        "id": "dGsQs9MHjE_s"
      },
      "outputs": [],
      "source": [
        "X_train = X_train.reshape(X_train.shape[0], 48, 48, 1)\n",
        "X_test = X_test.reshape(X_test.shape[0], 48, 48, 1)"
      ]
    },
    {
      "cell_type": "code",
      "execution_count": null,
      "metadata": {
        "id": "02lDYoT8RyL4"
      },
      "outputs": [],
      "source": [
        "data_augmentation = Sequential([\n",
        "    RandomContrast((0.2, 0.4)),\n",
        "    RandomFlip(\"horizontal\"),\n",
        "    RandomRotation(0.2)\n",
        "])"
      ]
    },
    {
      "cell_type": "code",
      "execution_count": null,
      "metadata": {
        "id": "6SFxHJxdXgm-"
      },
      "outputs": [],
      "source": [
        "y_train2 = pd.get_dummies(y_train)"
      ]
    },
    {
      "cell_type": "markdown",
      "metadata": {
        "id": "CJygKmyIHkDC"
      },
      "source": [
        "# **3. Mô hình**"
      ]
    },
    {
      "cell_type": "code",
      "execution_count": null,
      "metadata": {
        "colab": {
          "base_uri": "https://localhost:8080/",
          "height": 186
        },
        "id": "llEdS-1T3hc5",
        "outputId": "f98d1358-01b9-42b8-a438-0ab53f4c0c30"
      },
      "outputs": [
        {
          "data": {
            "image/png": "[encoded data removed]",
            "text/plain": [
              "<PIL.Image.Image image mode=RGBA size=1941x292 at 0x7F8D200CD450>"
            ]
          },
          "execution_count": 12,
          "metadata": {},
          "output_type": "execute_result"
        }
      ],
      "source": [
        "visualkeras.layered_view(seq, legend=True)"
      ]
    },
    {
      "cell_type": "markdown",
      "metadata": {
        "id": "DDAqtCs4evBF"
      },
      "source": [
        "**Khởi tạo mô hình**"
      ]
    },
    {
      "cell_type": "code",
      "execution_count": null,
      "metadata": {
        "id": "vlZIZxW84sxx"
      },
      "outputs": [],
      "source": [
        "seq = Sequential()\n",
        "seq.add(data_augmentation)\n",
        "seq.add(Input(shape=(48,48,1), name='input'))\n",
        "seq.add(Conv2D(64, kernel_size=3, activation='relu', padding='same', name = 'conv1_1'))\n",
        "seq.add(BatchNormalization())\n",
        "seq.add(Conv2D(64, kernel_size=3, activation='relu', padding='same', name = 'conv1_2'))\n",
        "seq.add(BatchNormalization())\n",
        "seq.add(Conv2D(64, kernel_size=3, activation='relu', padding='same', name = 'conv1_3'))\n",
        "seq.add(BatchNormalization())\n",
        "seq.add(MaxPooling2D(pool_size=(2,2), name = 'pool1_1'))\n",
        "seq.add(Dropout(0.3, name = 'drop1_1'))\n",
        "seq.add(Conv2D(128, kernel_size=3, activation='relu', padding='same', name = 'conv2_1'))\n",
        "seq.add(BatchNormalization())\n",
        "seq.add(Conv2D(128, kernel_size=3, activation='relu', padding='same', name = 'conv2_2'))\n",
        "seq.add(BatchNormalization())\n",
        "seq.add(Conv2D(128, kernel_size=3, activation='relu', padding='same', name = 'conv2_3'))\n",
        "seq.add(BatchNormalization())\n",
        "seq.add(MaxPooling2D(pool_size=(2,2), name = 'pool2_1'))\n",
        "seq.add(Dropout(0.3, name = 'drop2_1'))\n",
        "seq.add(Conv2D(256, kernel_size=3, activation='relu', padding='same', name = 'conv3_1'))\n",
        "seq.add(BatchNormalization())\n",
        "seq.add(Conv2D(256, kernel_size=3, activation='relu', padding='same', name = 'conv3_2'))\n",
        "seq.add(BatchNormalization())\n",
        "seq.add(Conv2D(256, kernel_size=3, activation='relu', padding='same', name = 'conv3_3'))\n",
        "seq.add(BatchNormalization())\n",
        "seq.add(Conv2D(256, kernel_size=3, activation='relu', padding='same', name = 'conv3_4'))\n",
        "seq.add(BatchNormalization())\n",
        "seq.add(MaxPooling2D(pool_size=(2,2), name = 'pool3_1'))\n",
        "seq.add(Dropout(0.3, name = 'drop3_1'))\n",
        "seq.add(Conv2D(256, kernel_size=3, activation='relu', padding='same', name = 'conv4_1'))\n",
        "seq.add(BatchNormalization())\n",
        "seq.add(Conv2D(256, kernel_size=3, activation='relu', padding='same', name = 'conv4_2'))\n",
        "seq.add(BatchNormalization())\n",
        "seq.add(Conv2D(256, kernel_size=3, activation='relu', padding='same', name = 'conv4_3'))\n",
        "seq.add(BatchNormalization())\n",
        "seq.add(Conv2D(256, kernel_size=3, activation='relu', padding='same', name = 'conv4_4'))\n",
        "seq.add(BatchNormalization())\n",
        "seq.add(MaxPooling2D(pool_size=(2,2), name = 'pool4_1'))\n",
        "seq.add(Dropout(0.3, name = 'drop4_1'))\n",
        "seq.add(Conv2D(512, kernel_size=3, activation='relu', padding='same', name = 'conv5_1'))\n",
        "seq.add(BatchNormalization())\n",
        "seq.add(Conv2D(512, kernel_size=3, activation='relu', padding='same', name = 'conv5_2'))\n",
        "seq.add(BatchNormalization())\n",
        "seq.add(Conv2D(512, kernel_size=3, activation='relu', padding='same', name = 'conv5_3'))\n",
        "seq.add(BatchNormalization())\n",
        "seq.add(Conv2D(512, kernel_size=3, activation='relu', padding='same', name = 'conv5_4'))\n",
        "seq.add(BatchNormalization())\n",
        "seq.add(MaxPooling2D(pool_size=(2,2), name = 'pool5_1'))\n",
        "seq.add(Dropout(0.3, name = 'drop5_1'))\n",
        "seq.add(Flatten(name = 'flatten'))\n",
        "seq.add(Dense(7, activation='softmax', name = 'output'))\n",
        "\n",
        "seq.compile(loss='categorical_crossentropy', optimizer='adam', metrics=['accuracy'])"
      ]
    },
    {
      "cell_type": "markdown",
      "metadata": {
        "id": "qVXD-ulFzto_"
      },
      "source": [
        "**Huấn luyện mô hình**"
      ]
    },
    {
      "cell_type": "code",
      "execution_count": null,
      "metadata": {
        "colab": {
          "base_uri": "https://localhost:8080/"
        },
        "id": "Y0sPCwlClRnP",
        "outputId": "4c9695a5-7cd4-440c-8dfe-1ede320d9a92"
      },
      "outputs": [
        {
          "name": "stdout",
          "output_type": "stream",
          "text": [
            "Epoch 1/100\n",
            "575/575 [==============================] - 52s 68ms/step - loss: 2.1712 - accuracy: 0.2269\n",
            "Epoch 2/100\n",
            "575/575 [==============================] - 39s 69ms/step - loss: 1.8340 - accuracy: 0.2731\n",
            "Epoch 3/100\n",
            "575/575 [==============================] - 40s 69ms/step - loss: 1.6725 - accuracy: 0.3335\n",
            "Epoch 4/100\n",
            "575/575 [==============================] - 40s 70ms/step - loss: 1.5219 - accuracy: 0.4080\n",
            "Epoch 5/100\n",
            "575/575 [==============================] - 40s 70ms/step - loss: 1.4214 - accuracy: 0.4512\n",
            "Epoch 6/100\n",
            "575/575 [==============================] - 40s 70ms/step - loss: 1.3677 - accuracy: 0.4739\n",
            "Epoch 7/100\n",
            "575/575 [==============================] - 40s 70ms/step - loss: 1.3213 - accuracy: 0.4908\n",
            "Epoch 8/100\n",
            "575/575 [==============================] - 41s 71ms/step - loss: 1.2840 - accuracy: 0.5073\n",
            "Epoch 9/100\n",
            "575/575 [==============================] - 41s 71ms/step - loss: 1.2612 - accuracy: 0.5208\n",
            "Epoch 10/100\n",
            "575/575 [==============================] - 41s 71ms/step - loss: 1.2383 - accuracy: 0.5275\n",
            "Epoch 11/100\n",
            "575/575 [==============================] - 41s 71ms/step - loss: 1.2139 - accuracy: 0.5360\n",
            "Epoch 12/100\n",
            "575/575 [==============================] - 41s 71ms/step - loss: 1.1953 - accuracy: 0.5469\n",
            "Epoch 13/100\n",
            "575/575 [==============================] - 41s 71ms/step - loss: 1.1778 - accuracy: 0.5566\n",
            "Epoch 14/100\n",
            "575/575 [==============================] - 41s 71ms/step - loss: 1.1664 - accuracy: 0.5571\n",
            "Epoch 15/100\n",
            "575/575 [==============================] - 41s 71ms/step - loss: 1.1497 - accuracy: 0.5656\n",
            "Epoch 16/100\n",
            "575/575 [==============================] - 41s 71ms/step - loss: 1.1275 - accuracy: 0.5711\n",
            "Epoch 17/100\n",
            "575/575 [==============================] - 41s 71ms/step - loss: 1.1197 - accuracy: 0.5766\n",
            "Epoch 18/100\n",
            "575/575 [==============================] - 41s 71ms/step - loss: 1.1018 - accuracy: 0.5866\n",
            "Epoch 19/100\n",
            "575/575 [==============================] - 41s 71ms/step - loss: 1.0853 - accuracy: 0.5896\n",
            "Epoch 20/100\n",
            "575/575 [==============================] - 41s 71ms/step - loss: 1.0737 - accuracy: 0.5954\n",
            "Epoch 21/100\n",
            "575/575 [==============================] - 41s 71ms/step - loss: 1.0609 - accuracy: 0.5989\n",
            "Epoch 22/100\n",
            "575/575 [==============================] - 41s 71ms/step - loss: 1.0439 - accuracy: 0.6095\n",
            "Epoch 23/100\n",
            "575/575 [==============================] - 41s 71ms/step - loss: 1.0328 - accuracy: 0.6097\n",
            "Epoch 24/100\n",
            "575/575 [==============================] - 41s 71ms/step - loss: 1.0989 - accuracy: 0.5867\n",
            "Epoch 25/100\n",
            "575/575 [==============================] - 41s 71ms/step - loss: 1.0175 - accuracy: 0.6174\n",
            "Epoch 26/100\n",
            "575/575 [==============================] - 41s 71ms/step - loss: 0.9967 - accuracy: 0.6229\n",
            "Epoch 27/100\n",
            "575/575 [==============================] - 41s 71ms/step - loss: 0.9877 - accuracy: 0.6291\n",
            "Epoch 28/100\n",
            "575/575 [==============================] - 41s 71ms/step - loss: 0.9843 - accuracy: 0.6308\n",
            "Epoch 29/100\n",
            "575/575 [==============================] - 41s 71ms/step - loss: 0.9757 - accuracy: 0.6343\n",
            "Epoch 30/100\n",
            "575/575 [==============================] - 42s 72ms/step - loss: 0.9656 - accuracy: 0.6371\n",
            "Epoch 31/100\n",
            "575/575 [==============================] - 41s 71ms/step - loss: 0.9554 - accuracy: 0.6440\n",
            "Epoch 32/100\n",
            "575/575 [==============================] - 41s 72ms/step - loss: 0.9480 - accuracy: 0.6446\n",
            "Epoch 33/100\n",
            "575/575 [==============================] - 41s 71ms/step - loss: 0.9375 - accuracy: 0.6486\n",
            "Epoch 34/100\n",
            "575/575 [==============================] - 41s 71ms/step - loss: 0.9308 - accuracy: 0.6494\n",
            "Epoch 35/100\n",
            "575/575 [==============================] - 41s 71ms/step - loss: 0.9286 - accuracy: 0.6521\n",
            "Epoch 36/100\n",
            "575/575 [==============================] - 41s 71ms/step - loss: 0.9131 - accuracy: 0.6603\n",
            "Epoch 37/100\n",
            "575/575 [==============================] - 41s 71ms/step - loss: 0.9114 - accuracy: 0.6609\n",
            "Epoch 38/100\n",
            "575/575 [==============================] - 41s 71ms/step - loss: 0.8999 - accuracy: 0.6653\n",
            "Epoch 39/100\n",
            "575/575 [==============================] - 41s 71ms/step - loss: 0.8878 - accuracy: 0.6677\n",
            "Epoch 40/100\n",
            "575/575 [==============================] - 41s 71ms/step - loss: 0.8841 - accuracy: 0.6703\n",
            "Epoch 41/100\n",
            "575/575 [==============================] - 41s 71ms/step - loss: 0.8750 - accuracy: 0.6720\n",
            "Epoch 42/100\n",
            "575/575 [==============================] - 41s 71ms/step - loss: 0.8679 - accuracy: 0.6779\n",
            "Epoch 43/100\n",
            "575/575 [==============================] - 41s 71ms/step - loss: 0.8625 - accuracy: 0.6772\n",
            "Epoch 44/100\n",
            "575/575 [==============================] - 41s 71ms/step - loss: 0.8607 - accuracy: 0.6806\n",
            "Epoch 45/100\n",
            "575/575 [==============================] - 41s 71ms/step - loss: 0.8859 - accuracy: 0.6704\n",
            "Epoch 46/100\n",
            "575/575 [==============================] - 41s 71ms/step - loss: 0.8466 - accuracy: 0.6825\n",
            "Epoch 47/100\n",
            "575/575 [==============================] - 41s 71ms/step - loss: 0.8399 - accuracy: 0.6856\n",
            "Epoch 48/100\n",
            "575/575 [==============================] - 41s 71ms/step - loss: 0.8273 - accuracy: 0.6909\n",
            "Epoch 49/100\n",
            "575/575 [==============================] - 41s 71ms/step - loss: 0.8219 - accuracy: 0.6924\n",
            "Epoch 50/100\n",
            "575/575 [==============================] - 41s 71ms/step - loss: 0.8138 - accuracy: 0.6986\n",
            "Epoch 51/100\n",
            "575/575 [==============================] - 41s 71ms/step - loss: 0.8119 - accuracy: 0.6980\n",
            "Epoch 52/100\n",
            "575/575 [==============================] - 41s 71ms/step - loss: 0.8060 - accuracy: 0.6993\n",
            "Epoch 53/100\n",
            "575/575 [==============================] - 41s 71ms/step - loss: 0.8041 - accuracy: 0.6958\n",
            "Epoch 54/100\n",
            "575/575 [==============================] - 41s 71ms/step - loss: 0.7953 - accuracy: 0.7004\n",
            "Epoch 55/100\n",
            "575/575 [==============================] - 41s 71ms/step - loss: 0.7873 - accuracy: 0.7064\n",
            "Epoch 56/100\n",
            "575/575 [==============================] - 41s 71ms/step - loss: 0.7886 - accuracy: 0.7046\n",
            "Epoch 57/100\n",
            "575/575 [==============================] - 41s 71ms/step - loss: 0.7842 - accuracy: 0.7078\n",
            "Epoch 58/100\n",
            "575/575 [==============================] - 41s 71ms/step - loss: 0.7736 - accuracy: 0.7127\n",
            "Epoch 59/100\n",
            "575/575 [==============================] - 41s 71ms/step - loss: 0.7693 - accuracy: 0.7109\n",
            "Epoch 60/100\n",
            "575/575 [==============================] - 41s 71ms/step - loss: 0.7552 - accuracy: 0.7181\n",
            "Epoch 61/100\n",
            "575/575 [==============================] - 41s 71ms/step - loss: 0.7533 - accuracy: 0.7227\n",
            "Epoch 62/100\n",
            "575/575 [==============================] - 41s 71ms/step - loss: 0.7568 - accuracy: 0.7195\n",
            "Epoch 63/100\n",
            "575/575 [==============================] - 41s 71ms/step - loss: 0.7452 - accuracy: 0.7252\n",
            "Epoch 64/100\n",
            "575/575 [==============================] - 41s 71ms/step - loss: 0.7412 - accuracy: 0.7259\n",
            "Epoch 65/100\n",
            "575/575 [==============================] - 41s 71ms/step - loss: 0.7345 - accuracy: 0.7268\n",
            "Epoch 66/100\n",
            "575/575 [==============================] - 41s 71ms/step - loss: 0.7318 - accuracy: 0.7261\n",
            "Epoch 67/100\n",
            "575/575 [==============================] - 41s 71ms/step - loss: 0.7249 - accuracy: 0.7311\n",
            "Epoch 68/100\n",
            "575/575 [==============================] - 41s 71ms/step - loss: 0.7159 - accuracy: 0.7346\n",
            "Epoch 69/100\n",
            "575/575 [==============================] - 41s 71ms/step - loss: 0.7147 - accuracy: 0.7320\n",
            "Epoch 70/100\n",
            "575/575 [==============================] - 41s 71ms/step - loss: 0.7141 - accuracy: 0.7346\n",
            "Epoch 71/100\n",
            "575/575 [==============================] - 41s 71ms/step - loss: 0.7027 - accuracy: 0.7385\n",
            "Epoch 72/100\n",
            "575/575 [==============================] - 41s 71ms/step - loss: 0.6944 - accuracy: 0.7418\n",
            "Epoch 73/100\n",
            "575/575 [==============================] - 41s 71ms/step - loss: 0.6957 - accuracy: 0.7399\n",
            "Epoch 74/100\n",
            "575/575 [==============================] - 41s 71ms/step - loss: 0.6924 - accuracy: 0.7453\n",
            "Epoch 75/100\n",
            "575/575 [==============================] - 41s 71ms/step - loss: 0.6842 - accuracy: 0.7463\n",
            "Epoch 76/100\n",
            "575/575 [==============================] - 41s 71ms/step - loss: 0.6803 - accuracy: 0.7489\n",
            "Epoch 77/100\n",
            "575/575 [==============================] - 41s 71ms/step - loss: 0.6753 - accuracy: 0.7500\n",
            "Epoch 78/100\n",
            "575/575 [==============================] - 42s 73ms/step - loss: 0.6706 - accuracy: 0.7516\n",
            "Epoch 79/100\n",
            "575/575 [==============================] - 41s 72ms/step - loss: 0.6622 - accuracy: 0.7549\n",
            "Epoch 80/100\n",
            "575/575 [==============================] - 42s 72ms/step - loss: 0.6614 - accuracy: 0.7545\n",
            "Epoch 81/100\n",
            "575/575 [==============================] - 41s 71ms/step - loss: 0.6545 - accuracy: 0.7571\n",
            "Epoch 82/100\n",
            "575/575 [==============================] - 41s 71ms/step - loss: 0.6484 - accuracy: 0.7614\n",
            "Epoch 83/100\n",
            "575/575 [==============================] - 41s 71ms/step - loss: 0.6442 - accuracy: 0.7600\n",
            "Epoch 84/100\n",
            "575/575 [==============================] - 41s 71ms/step - loss: 0.6450 - accuracy: 0.7623\n",
            "Epoch 85/100\n",
            "575/575 [==============================] - 41s 72ms/step - loss: 0.6329 - accuracy: 0.7662\n",
            "Epoch 86/100\n",
            "575/575 [==============================] - 41s 71ms/step - loss: 0.6293 - accuracy: 0.7660\n",
            "Epoch 87/100\n",
            "575/575 [==============================] - 41s 71ms/step - loss: 0.6277 - accuracy: 0.7678\n",
            "Epoch 88/100\n",
            "575/575 [==============================] - 41s 71ms/step - loss: 0.6281 - accuracy: 0.7674\n",
            "Epoch 89/100\n",
            "575/575 [==============================] - 41s 71ms/step - loss: 0.6232 - accuracy: 0.7718\n",
            "Epoch 90/100\n",
            "575/575 [==============================] - 41s 71ms/step - loss: 0.6704 - accuracy: 0.7521\n",
            "Epoch 91/100\n",
            "575/575 [==============================] - 41s 71ms/step - loss: 0.6164 - accuracy: 0.7695\n",
            "Epoch 92/100\n",
            "575/575 [==============================] - 41s 71ms/step - loss: 0.6083 - accuracy: 0.7742\n",
            "Epoch 93/100\n",
            "575/575 [==============================] - 41s 71ms/step - loss: 0.5977 - accuracy: 0.7783\n",
            "Epoch 94/100\n",
            "575/575 [==============================] - 41s 71ms/step - loss: 0.6009 - accuracy: 0.7806\n",
            "Epoch 95/100\n",
            "575/575 [==============================] - 41s 71ms/step - loss: 0.5927 - accuracy: 0.7797\n",
            "Epoch 96/100\n",
            "575/575 [==============================] - 41s 71ms/step - loss: 0.5886 - accuracy: 0.7832\n",
            "Epoch 97/100\n",
            "575/575 [==============================] - 41s 71ms/step - loss: 0.5894 - accuracy: 0.7816\n",
            "Epoch 98/100\n",
            "575/575 [==============================] - 41s 71ms/step - loss: 0.5887 - accuracy: 0.7826\n",
            "Epoch 99/100\n",
            "575/575 [==============================] - 41s 71ms/step - loss: 0.5778 - accuracy: 0.7861\n",
            "Epoch 100/100\n",
            "575/575 [==============================] - 41s 71ms/step - loss: 0.5798 - accuracy: 0.7841\n"
          ]
        }
      ],
      "source": [
        "his = seq.fit(X_train, y_train2, batch_size=50, epochs=100)"
      ]
    },
    {
      "cell_type": "markdown",
      "metadata": {
        "id": "zsb1amNCz0dn"
      },
      "source": [
        "**Trực quan hóa**"
      ]
    },
    {
      "cell_type": "code",
      "execution_count": null,
      "metadata": {
        "colab": {
          "base_uri": "https://localhost:8080/",
          "height": 573
        },
        "id": "-zRrUaJQf0FP",
        "outputId": "0d9ac3e8-7db4-4961-a2e9-45b34353b9b2"
      },
      "outputs": [
        {
          "data": {
            "image/png": "[encoded data removed]",
            "text/plain": [
              "<Figure size 432x288 with 1 Axes>"
            ]
          },
          "metadata": {
            "needs_background": "light"
          },
          "output_type": "display_data"
        },
        {
          "data": {
            "image/png": "[encoded data removed]",
            "text/plain": [
              "<Figure size 432x288 with 1 Axes>"
            ]
          },
          "metadata": {
            "needs_background": "light"
          },
          "output_type": "display_data"
        }
      ],
      "source": [
        "# summarize history for accuracy\n",
        "plt.plot(his.history['accuracy'])\n",
        "plt.title('Training Accuracy')\n",
        "plt.ylabel('Accuracy')\n",
        "plt.xlabel('Epoch')\n",
        "plt.show()\n",
        "# summarize history for loss\n",
        "plt.plot(his.history['loss'])\n",
        "plt.title('Training Loss')\n",
        "plt.ylabel('Loss')\n",
        "plt.xlabel('Epoch')\n",
        "plt.show()"
      ]
    },
    {
      "cell_type": "markdown",
      "metadata": {
        "id": "NFQHUkk-0BCe"
      },
      "source": [
        "**Chạy mô hình trên tập kiểm thử**"
      ]
    },
    {
      "cell_type": "code",
      "execution_count": null,
      "metadata": {
        "colab": {
          "base_uri": "https://localhost:8080/"
        },
        "id": "ZzAh1XOc9_3G",
        "outputId": "da20bfbb-65e3-4b36-b0bb-11a4ddae8670"
      },
      "outputs": [
        {
          "data": {
            "text/plain": [
              "3589"
            ]
          },
          "execution_count": 12,
          "metadata": {},
          "output_type": "execute_result"
        }
      ],
      "source": [
        "sz = len(y_test)\n",
        "sz"
      ]
    },
    {
      "cell_type": "code",
      "execution_count": null,
      "metadata": {
        "id": "blMrtKEo-Z8_"
      },
      "outputs": [],
      "source": [
        "y_pt = seq.predict(X_test)"
      ]
    },
    {
      "cell_type": "code",
      "execution_count": null,
      "metadata": {
        "id": "BOIum521-ef7"
      },
      "outputs": [],
      "source": [
        "y_p = []\n",
        "for i in range(sz):\n",
        "    y_p.append(np.argmax(y_pt[i]))"
      ]
    },
    {
      "cell_type": "code",
      "execution_count": null,
      "metadata": {
        "colab": {
          "base_uri": "https://localhost:8080/"
        },
        "id": "95izt3MOmGn3",
        "outputId": "01b723bc-01bc-420b-b37c-a93123961107"
      },
      "outputs": [
        {
          "data": {
            "text/plain": [
              "array([[245,   2,  52,  13,  74,   9,  72],\n",
              "       [ 11,  27,   5,   1,   7,   0,   5],\n",
              "       [ 44,   2, 226,  10, 107,  38,  69],\n",
              "       [ 14,   1,  14, 754,  17,  24,  71],\n",
              "       [ 45,   1,  62,  15, 385,   7, 138],\n",
              "       [ 11,   0,  35,  16,   6, 331,  16],\n",
              "       [ 24,   0,  23,  46,  83,  10, 421]])"
            ]
          },
          "execution_count": 60,
          "metadata": {},
          "output_type": "execute_result"
        }
      ],
      "source": [
        "mat = confusion_matrix(y_test, y_p, labels=[0,1,2,3,4,5,6])\n",
        "mat"
      ]
    },
    {
      "cell_type": "markdown",
      "metadata": {
        "id": "qmueES97Jrgc"
      },
      "source": [
        "**Kết quả: Accuracy trên tập kiểm thử**"
      ]
    },
    {
      "cell_type": "code",
      "execution_count": null,
      "metadata": {
        "colab": {
          "base_uri": "https://localhost:8080/"
        },
        "id": "Ey8LVRaZ-9qJ",
        "outputId": "95c95889-134c-41bc-9260-f0634a436faf"
      },
      "outputs": [
        {
          "data": {
            "text/plain": [
              "0.6656450264697688"
            ]
          },
          "execution_count": 62,
          "metadata": {},
          "output_type": "execute_result"
        }
      ],
      "source": [
        "truee = 0\n",
        "for i in range(7):\n",
        "    truee += mat[i,i]\n",
        "truee / sz"
      ]
    },
    {
      "cell_type": "markdown",
      "metadata": {
        "id": "2BIyBqb_N5MU"
      },
      "source": [
        "> *Nhận xét:* Accuracy trên tập test thấp hơn trên tập train khá nhiều. Rất có thể mô hình đã bị overfitting.\n",
        "\n"
      ]
    },
    {
      "cell_type": "markdown",
      "metadata": {
        "id": "bkvuxLHHIwlF"
      },
      "source": [
        "# **4. Điều chỉnh lại mô hình**"
      ]
    },
    {
      "cell_type": "markdown",
      "metadata": {
        "id": "wuORxgMCwQoY"
      },
      "source": [
        "*Tóm tắt:* Trong thí nghiệm ở phần này, nhóm đã thay đổi siêu tham số *rate* của Dropout layers của mô hình từ 0.3 lên 0.35. Quá trình huấn luyện giảm từ 100 xuống 88 epochs."
      ]
    },
    {
      "cell_type": "code",
      "execution_count": null,
      "metadata": {
        "id": "2DQE7gjpgWnw"
      },
      "outputs": [],
      "source": [
        "seq = Sequential()\n",
        "seq.add(data_augmentation)\n",
        "seq.add(Input(shape=(48,48,1), name='input'))\n",
        "seq.add(Conv2D(64, kernel_size=3, activation='relu', padding='same', name = 'conv1_1'))\n",
        "seq.add(BatchNormalization())\n",
        "seq.add(Conv2D(64, kernel_size=3, activation='relu', padding='same', name = 'conv1_2'))\n",
        "seq.add(BatchNormalization())\n",
        "seq.add(Conv2D(64, kernel_size=3, activation='relu', padding='same', name = 'conv1_3'))\n",
        "seq.add(BatchNormalization())\n",
        "seq.add(MaxPooling2D(pool_size=(2,2), name = 'pool1_1'))\n",
        "seq.add(Dropout(0.35, name = 'drop1_1'))\n",
        "seq.add(Conv2D(128, kernel_size=3, activation='relu', padding='same', name = 'conv2_1'))\n",
        "seq.add(BatchNormalization())\n",
        "seq.add(Conv2D(128, kernel_size=3, activation='relu', padding='same', name = 'conv2_2'))\n",
        "seq.add(BatchNormalization())\n",
        "seq.add(Conv2D(128, kernel_size=3, activation='relu', padding='same', name = 'conv2_3'))\n",
        "seq.add(BatchNormalization())\n",
        "seq.add(MaxPooling2D(pool_size=(2,2), name = 'pool2_1'))\n",
        "seq.add(Dropout(0.35, name = 'drop2_1'))\n",
        "seq.add(Conv2D(256, kernel_size=3, activation='relu', padding='same', name = 'conv3_1'))\n",
        "seq.add(BatchNormalization())\n",
        "seq.add(Conv2D(256, kernel_size=3, activation='relu', padding='same', name = 'conv3_2'))\n",
        "seq.add(BatchNormalization())\n",
        "seq.add(Conv2D(256, kernel_size=3, activation='relu', padding='same', name = 'conv3_3'))\n",
        "seq.add(BatchNormalization())\n",
        "seq.add(Conv2D(256, kernel_size=3, activation='relu', padding='same', name = 'conv3_4'))\n",
        "seq.add(BatchNormalization())\n",
        "seq.add(MaxPooling2D(pool_size=(2,2), name = 'pool3_1'))\n",
        "seq.add(Dropout(0.35, name = 'drop3_1'))\n",
        "seq.add(Conv2D(256, kernel_size=3, activation='relu', padding='same', name = 'conv4_1'))\n",
        "seq.add(BatchNormalization())\n",
        "seq.add(Conv2D(256, kernel_size=3, activation='relu', padding='same', name = 'conv4_2'))\n",
        "seq.add(BatchNormalization())\n",
        "seq.add(Conv2D(256, kernel_size=3, activation='relu', padding='same', name = 'conv4_3'))\n",
        "seq.add(BatchNormalization())\n",
        "seq.add(Conv2D(256, kernel_size=3, activation='relu', padding='same', name = 'conv4_4'))\n",
        "seq.add(BatchNormalization())\n",
        "seq.add(MaxPooling2D(pool_size=(2,2), name = 'pool4_1'))\n",
        "seq.add(Dropout(0.35, name = 'drop4_1'))\n",
        "seq.add(Conv2D(512, kernel_size=3, activation='relu', padding='same', name = 'conv5_1'))\n",
        "seq.add(BatchNormalization())\n",
        "seq.add(Conv2D(512, kernel_size=3, activation='relu', padding='same', name = 'conv5_2'))\n",
        "seq.add(BatchNormalization())\n",
        "seq.add(Conv2D(512, kernel_size=3, activation='relu', padding='same', name = 'conv5_3'))\n",
        "seq.add(BatchNormalization())\n",
        "seq.add(Conv2D(512, kernel_size=3, activation='relu', padding='same', name = 'conv5_4'))\n",
        "seq.add(BatchNormalization())\n",
        "seq.add(MaxPooling2D(pool_size=(2,2), name = 'pool5_1'))\n",
        "seq.add(Dropout(0.35, name = 'drop5_1'))\n",
        "seq.add(Flatten(name = 'flatten'))\n",
        "seq.add(Dense(7, activation='softmax', name = 'output'))\n",
        "\n",
        "seq.compile(loss='categorical_crossentropy', optimizer='adam', metrics=['accuracy'])"
      ]
    },
    {
      "cell_type": "code",
      "execution_count": null,
      "metadata": {
        "colab": {
          "base_uri": "https://localhost:8080/",
          "height": 329
        },
        "id": "NFARBuyNxsbe",
        "outputId": "c7bc3704-31a5-44cd-fdad-891b34a09eea"
      },
      "outputs": [
        {
          "data": {
            "image/png": "[encoded data removed]",
            "text/plain": [
              "<PIL.Image.Image image mode=RGBA size=1941x292 at 0x7F358EE49F10>"
            ]
          },
          "execution_count": 11,
          "metadata": {},
          "output_type": "execute_result"
        }
      ],
      "source": [
        "visualkeras.layered_view(seq, legend=True)"
      ]
    },
    {
      "cell_type": "code",
      "execution_count": null,
      "metadata": {
        "colab": {
          "base_uri": "https://localhost:8080/"
        },
        "id": "B1tcxiRII1Vp",
        "outputId": "5565a5f1-b168-4bb8-eca4-2963841c4c35"
      },
      "outputs": [
        {
          "name": "stdout",
          "output_type": "stream",
          "text": [
            "Epoch 1/88\n",
            "449/449 [==============================] - 37s 78ms/step - loss: 2.2074 - accuracy: 0.2275\n",
            "Epoch 2/88\n",
            "449/449 [==============================] - 35s 78ms/step - loss: 1.8707 - accuracy: 0.2557\n",
            "Epoch 3/88\n",
            "449/449 [==============================] - 35s 79ms/step - loss: 1.7475 - accuracy: 0.2857\n",
            "Epoch 4/88\n",
            "449/449 [==============================] - 36s 79ms/step - loss: 1.6359 - accuracy: 0.3470\n",
            "Epoch 5/88\n",
            "449/449 [==============================] - 36s 80ms/step - loss: 1.5243 - accuracy: 0.4050\n",
            "Epoch 6/88\n",
            "449/449 [==============================] - 36s 80ms/step - loss: 1.4328 - accuracy: 0.4464\n",
            "Epoch 7/88\n",
            "449/449 [==============================] - 36s 80ms/step - loss: 1.3647 - accuracy: 0.4777\n",
            "Epoch 8/88\n",
            "449/449 [==============================] - 36s 80ms/step - loss: 1.3249 - accuracy: 0.4928\n",
            "Epoch 9/88\n",
            "449/449 [==============================] - 36s 80ms/step - loss: 1.2939 - accuracy: 0.5055\n",
            "Epoch 10/88\n",
            "449/449 [==============================] - 36s 81ms/step - loss: 1.2662 - accuracy: 0.5176\n",
            "Epoch 11/88\n",
            "449/449 [==============================] - 36s 81ms/step - loss: 1.2393 - accuracy: 0.5278\n",
            "Epoch 12/88\n",
            "449/449 [==============================] - 36s 81ms/step - loss: 1.2239 - accuracy: 0.5401\n",
            "Epoch 13/88\n",
            "449/449 [==============================] - 36s 81ms/step - loss: 1.2014 - accuracy: 0.5471\n",
            "Epoch 14/88\n",
            "449/449 [==============================] - 36s 81ms/step - loss: 1.1812 - accuracy: 0.5509\n",
            "Epoch 15/88\n",
            "449/449 [==============================] - 36s 81ms/step - loss: 1.1660 - accuracy: 0.5575\n",
            "Epoch 16/88\n",
            "449/449 [==============================] - 36s 81ms/step - loss: 1.1536 - accuracy: 0.5611\n",
            "Epoch 17/88\n",
            "449/449 [==============================] - 36s 81ms/step - loss: 1.1414 - accuracy: 0.5676\n",
            "Epoch 18/88\n",
            "449/449 [==============================] - 36s 81ms/step - loss: 1.1160 - accuracy: 0.5795\n",
            "Epoch 19/88\n",
            "449/449 [==============================] - 36s 81ms/step - loss: 1.1066 - accuracy: 0.5836\n",
            "Epoch 20/88\n",
            "449/449 [==============================] - 36s 81ms/step - loss: 1.0950 - accuracy: 0.5885\n",
            "Epoch 21/88\n",
            "449/449 [==============================] - 36s 81ms/step - loss: 1.0826 - accuracy: 0.5941\n",
            "Epoch 22/88\n",
            "449/449 [==============================] - 36s 81ms/step - loss: 1.0721 - accuracy: 0.5977\n",
            "Epoch 23/88\n",
            "449/449 [==============================] - 36s 81ms/step - loss: 1.0546 - accuracy: 0.6033\n",
            "Epoch 24/88\n",
            "449/449 [==============================] - 36s 81ms/step - loss: 1.0491 - accuracy: 0.6049\n",
            "Epoch 25/88\n",
            "449/449 [==============================] - 36s 81ms/step - loss: 1.0317 - accuracy: 0.6131\n",
            "Epoch 26/88\n",
            "449/449 [==============================] - 36s 81ms/step - loss: 1.0421 - accuracy: 0.6068\n",
            "Epoch 27/88\n",
            "449/449 [==============================] - 36s 81ms/step - loss: 1.0108 - accuracy: 0.6186\n",
            "Epoch 28/88\n",
            "449/449 [==============================] - 36s 81ms/step - loss: 0.9965 - accuracy: 0.6268\n",
            "Epoch 29/88\n",
            "449/449 [==============================] - 36s 81ms/step - loss: 0.9895 - accuracy: 0.6289\n",
            "Epoch 30/88\n",
            "449/449 [==============================] - 36s 81ms/step - loss: 0.9855 - accuracy: 0.6284\n",
            "Epoch 31/88\n",
            "449/449 [==============================] - 36s 81ms/step - loss: 0.9739 - accuracy: 0.6361\n",
            "Epoch 32/88\n",
            "449/449 [==============================] - 36s 81ms/step - loss: 0.9622 - accuracy: 0.6389\n",
            "Epoch 33/88\n",
            "449/449 [==============================] - 36s 81ms/step - loss: 0.9569 - accuracy: 0.6416\n",
            "Epoch 34/88\n",
            "449/449 [==============================] - 36s 81ms/step - loss: 0.9442 - accuracy: 0.6428\n",
            "Epoch 35/88\n",
            "449/449 [==============================] - 36s 81ms/step - loss: 0.9391 - accuracy: 0.6472\n",
            "Epoch 36/88\n",
            "449/449 [==============================] - 36s 81ms/step - loss: 0.9293 - accuracy: 0.6502\n",
            "Epoch 37/88\n",
            "449/449 [==============================] - 36s 81ms/step - loss: 0.9246 - accuracy: 0.6545\n",
            "Epoch 38/88\n",
            "449/449 [==============================] - 36s 81ms/step - loss: 0.9107 - accuracy: 0.6580\n",
            "Epoch 39/88\n",
            "449/449 [==============================] - 36s 81ms/step - loss: 0.9033 - accuracy: 0.6630\n",
            "Epoch 40/88\n",
            "449/449 [==============================] - 36s 81ms/step - loss: 0.8959 - accuracy: 0.6663\n",
            "Epoch 41/88\n",
            "449/449 [==============================] - 36s 81ms/step - loss: 0.8894 - accuracy: 0.6677\n",
            "Epoch 42/88\n",
            "449/449 [==============================] - 36s 81ms/step - loss: 0.8814 - accuracy: 0.6694\n",
            "Epoch 43/88\n",
            "449/449 [==============================] - 36s 81ms/step - loss: 0.8792 - accuracy: 0.6705\n",
            "Epoch 44/88\n",
            "449/449 [==============================] - 36s 81ms/step - loss: 0.8722 - accuracy: 0.6745\n",
            "Epoch 45/88\n",
            "449/449 [==============================] - 36s 81ms/step - loss: 0.8656 - accuracy: 0.6763\n",
            "Epoch 46/88\n",
            "449/449 [==============================] - 36s 81ms/step - loss: 0.8565 - accuracy: 0.6793\n",
            "Epoch 47/88\n",
            "449/449 [==============================] - 36s 81ms/step - loss: 0.8645 - accuracy: 0.6786\n",
            "Epoch 48/88\n",
            "449/449 [==============================] - 36s 81ms/step - loss: 0.8464 - accuracy: 0.6830\n",
            "Epoch 49/88\n",
            "449/449 [==============================] - 36s 81ms/step - loss: 0.8402 - accuracy: 0.6872\n",
            "Epoch 50/88\n",
            "449/449 [==============================] - 36s 81ms/step - loss: 0.8310 - accuracy: 0.6920\n",
            "Epoch 51/88\n",
            "449/449 [==============================] - 36s 81ms/step - loss: 0.8309 - accuracy: 0.6893\n",
            "Epoch 52/88\n",
            "449/449 [==============================] - 36s 81ms/step - loss: 0.8254 - accuracy: 0.6938\n",
            "Epoch 53/88\n",
            "449/449 [==============================] - 36s 81ms/step - loss: 0.8133 - accuracy: 0.6966\n",
            "Epoch 54/88\n",
            "449/449 [==============================] - 36s 81ms/step - loss: 0.8134 - accuracy: 0.6984\n",
            "Epoch 55/88\n",
            "449/449 [==============================] - 36s 81ms/step - loss: 0.7996 - accuracy: 0.7013\n",
            "Epoch 56/88\n",
            "449/449 [==============================] - 36s 81ms/step - loss: 0.7952 - accuracy: 0.7069\n",
            "Epoch 57/88\n",
            "449/449 [==============================] - 36s 81ms/step - loss: 0.7895 - accuracy: 0.7055\n",
            "Epoch 58/88\n",
            "449/449 [==============================] - 36s 81ms/step - loss: 0.7867 - accuracy: 0.7079\n",
            "Epoch 59/88\n",
            "449/449 [==============================] - 36s 81ms/step - loss: 0.7805 - accuracy: 0.7102\n",
            "Epoch 60/88\n",
            "449/449 [==============================] - 36s 81ms/step - loss: 0.7738 - accuracy: 0.7134\n",
            "Epoch 61/88\n",
            "449/449 [==============================] - 36s 81ms/step - loss: 0.7707 - accuracy: 0.7138\n",
            "Epoch 62/88\n",
            "449/449 [==============================] - 36s 81ms/step - loss: 0.7643 - accuracy: 0.7153\n",
            "Epoch 63/88\n",
            "449/449 [==============================] - 36s 81ms/step - loss: 0.7580 - accuracy: 0.7162\n",
            "Epoch 64/88\n",
            "449/449 [==============================] - 36s 81ms/step - loss: 0.7521 - accuracy: 0.7192\n",
            "Epoch 65/88\n",
            "449/449 [==============================] - 36s 81ms/step - loss: 0.7497 - accuracy: 0.7226\n",
            "Epoch 66/88\n",
            "449/449 [==============================] - 36s 81ms/step - loss: 0.7443 - accuracy: 0.7229\n",
            "Epoch 67/88\n",
            "449/449 [==============================] - 36s 81ms/step - loss: 0.7385 - accuracy: 0.7259\n",
            "Epoch 68/88\n",
            "449/449 [==============================] - 36s 81ms/step - loss: 0.7317 - accuracy: 0.7267\n",
            "Epoch 69/88\n",
            "449/449 [==============================] - 36s 81ms/step - loss: 0.7296 - accuracy: 0.7286\n",
            "Epoch 70/88\n",
            "449/449 [==============================] - 36s 80ms/step - loss: 0.7283 - accuracy: 0.7312\n",
            "Epoch 71/88\n",
            "449/449 [==============================] - 36s 80ms/step - loss: 0.7202 - accuracy: 0.7351\n",
            "Epoch 72/88\n",
            "449/449 [==============================] - 36s 80ms/step - loss: 0.7123 - accuracy: 0.7348\n",
            "Epoch 73/88\n",
            "449/449 [==============================] - 36s 80ms/step - loss: 0.7067 - accuracy: 0.7392\n",
            "Epoch 74/88\n",
            "449/449 [==============================] - 36s 81ms/step - loss: 0.7059 - accuracy: 0.7369\n",
            "Epoch 75/88\n",
            "449/449 [==============================] - 36s 81ms/step - loss: 0.7045 - accuracy: 0.7392\n",
            "Epoch 76/88\n",
            "449/449 [==============================] - 36s 81ms/step - loss: 0.6940 - accuracy: 0.7432\n",
            "Epoch 77/88\n",
            "449/449 [==============================] - 36s 81ms/step - loss: 0.6953 - accuracy: 0.7414\n",
            "Epoch 78/88\n",
            "449/449 [==============================] - 36s 81ms/step - loss: 0.6833 - accuracy: 0.7498\n",
            "Epoch 79/88\n",
            "449/449 [==============================] - 36s 81ms/step - loss: 0.6780 - accuracy: 0.7487\n",
            "Epoch 80/88\n",
            "449/449 [==============================] - 36s 81ms/step - loss: 0.6716 - accuracy: 0.7513\n",
            "Epoch 81/88\n",
            "449/449 [==============================] - 36s 81ms/step - loss: 0.6725 - accuracy: 0.7527\n",
            "Epoch 82/88\n",
            "449/449 [==============================] - 36s 81ms/step - loss: 0.6658 - accuracy: 0.7521\n",
            "Epoch 83/88\n",
            "449/449 [==============================] - 36s 81ms/step - loss: 0.6596 - accuracy: 0.7566\n",
            "Epoch 84/88\n",
            "449/449 [==============================] - 36s 81ms/step - loss: 0.6563 - accuracy: 0.7568\n",
            "Epoch 85/88\n",
            "449/449 [==============================] - 36s 81ms/step - loss: 0.6528 - accuracy: 0.7578\n",
            "Epoch 86/88\n",
            "449/449 [==============================] - 36s 81ms/step - loss: 0.6719 - accuracy: 0.7516\n",
            "Epoch 87/88\n",
            "449/449 [==============================] - 36s 81ms/step - loss: 0.6476 - accuracy: 0.7602\n",
            "Epoch 88/88\n",
            "449/449 [==============================] - 36s 81ms/step - loss: 0.6464 - accuracy: 0.7602\n"
          ]
        }
      ],
      "source": [
        "his = seq.fit(X_train, y_train2, batch_size=64, epochs=88)"
      ]
    },
    {
      "cell_type": "code",
      "execution_count": null,
      "metadata": {
        "id": "KF4a-7N3T-zr"
      },
      "outputs": [],
      "source": [
        "y_pt = seq.predict(X_test)"
      ]
    },
    {
      "cell_type": "code",
      "execution_count": null,
      "metadata": {
        "id": "xcLWNE-XUFu7"
      },
      "outputs": [],
      "source": [
        "y_p = []\n",
        "for i in range(sz):\n",
        "    y_p.append(np.argmax(y_pt[i]))"
      ]
    },
    {
      "cell_type": "markdown",
      "metadata": {
        "id": "nVd5V_1zt0QO"
      },
      "source": [
        "**Ma trận nhầm lẫn**"
      ]
    },
    {
      "cell_type": "code",
      "execution_count": null,
      "metadata": {
        "colab": {
          "base_uri": "https://localhost:8080/"
        },
        "id": "_7A_N37wUJQc",
        "outputId": "b1bf5b52-791a-4b0e-dae8-aad6e4e3b7c5"
      },
      "outputs": [
        {
          "data": {
            "text/plain": [
              "array([[257,   8,  53,  22,  61,  11,  55],\n",
              "       [  9,  32,   1,   2,  11,   0,   1],\n",
              "       [ 33,   7, 228,  20, 106,  40,  62],\n",
              "       [ 13,   3,  11, 781,  14,  19,  54],\n",
              "       [ 60,   3,  73,  25, 363,   4, 125],\n",
              "       [ 13,   0,  29,  20,  10, 330,  13],\n",
              "       [ 28,   0,  23,  49,  86,   4, 417]])"
            ]
          },
          "execution_count": 38,
          "metadata": {},
          "output_type": "execute_result"
        }
      ],
      "source": [
        "mat = confusion_matrix(y_test, y_p, labels=[0,1,2,3,4,5,6])\n",
        "mat"
      ]
    },
    {
      "cell_type": "markdown",
      "metadata": {
        "id": "8Jz9M2Kmtu5F"
      },
      "source": [
        "**Accuracy trên tập kiểm thử**"
      ]
    },
    {
      "cell_type": "code",
      "execution_count": null,
      "metadata": {
        "colab": {
          "base_uri": "https://localhost:8080/"
        },
        "id": "03PfqerTUPhr",
        "outputId": "b6d961c3-b1bc-45c9-ce67-626139fedf00"
      },
      "outputs": [
        {
          "data": {
            "text/plain": [
              "0.6709389802173308"
            ]
          },
          "execution_count": 39,
          "metadata": {},
          "output_type": "execute_result"
        }
      ],
      "source": [
        "truee = 0\n",
        "for i in range(7):\n",
        "    truee += mat[i,i]\n",
        "truee / sz"
      ]
    },
    {
      "cell_type": "markdown",
      "metadata": {
        "id": "ZhGbhVihuJB_"
      },
      "source": [
        "> *Nhận xét:* Dù accuracy trên tập train không bằng ở lần huấn luyện mô hình ban đầu nhưng accuracy trên tập test có chút cải thiện.\n",
        "\n"
      ]
    },
    {
      "cell_type": "markdown",
      "metadata": {
        "id": "966ANfeEUd7V"
      },
      "source": [
        "**Lưu mô hình**"
      ]
    },
    {
      "cell_type": "code",
      "execution_count": null,
      "metadata": {
        "colab": {
          "base_uri": "https://localhost:8080/"
        },
        "id": "MPbQW1v0EERO",
        "outputId": "281ede97-ab59-4eaf-e4cc-8de2bcdf9947"
      },
      "outputs": [
        {
          "name": "stdout",
          "output_type": "stream",
          "text": [
            "INFO:tensorflow:Assets written to: /content/drive/MyDrive/datasets/seq_model22.sav/assets\n"
          ]
        }
      ],
      "source": [
        "seq.save('/content/drive/MyDrive/datasets/seq_model22.sav')"
      ]
    },
    {
      "cell_type": "code",
      "execution_count": null,
      "metadata": {
        "id": "hhijXlCoEhtB"
      },
      "outputs": [],
      "source": [
        "loaded_model = load_model('/content/drive/MyDrive/datasets/seq_model22.sav')"
      ]
    }
  ],
  "metadata": {
    "accelerator": "GPU",
    "colab": {
      "collapsed_sections": [],
      "name": "EmotionDetection.ipynb",
      "provenance": []
    },
    "kernelspec": {
      "display_name": "Python 3",
      "name": "python3"
    },
    "language_info": {
      "name": "python"
    }
  },
  "nbformat": 4,
  "nbformat_minor": 0
}
